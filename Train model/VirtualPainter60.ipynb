{
  "nbformat": 4,
  "nbformat_minor": 0,
  "metadata": {
    "colab": {
      "name": "tgm60.ipynb",
      "provenance": []
    },
    "kernelspec": {
      "name": "python3",
      "display_name": "Python 3"
    },
    "language_info": {
      "name": "python"
    },
    "accelerator": "GPU"
  },
  "cells": [
    {
      "cell_type": "code",
      "metadata": {
        "id": "7vpmFiH50Vh5"
      },
      "source": [
        "import os\n",
        "import cv2 as cv\n",
        "import numpy as np\n",
        "from PIL import Image\n",
        "import matplotlib.pyplot as plt\n",
        "\n",
        "from keras import Sequential\n",
        "from keras.optimizers import Adam\n",
        "from tensorflow.keras.utils import to_categorical\n",
        "from sklearn.model_selection import train_test_split\n",
        "from keras.preprocessing.image import ImageDataGenerator\n",
        "from keras.layers import Dense, Activation, Dropout, Flatten, Conv2D, MaxPooling2D, BatchNormalization"
      ],
      "execution_count": null,
      "outputs": []
    },
    {
      "cell_type": "code",
      "metadata": {
        "id": "8D8GOnxp0zcw"
      },
      "source": [
        "root = \"drive/MyDrive/tgm/resized/\"\n",
        "\n",
        "vuongs = os.listdir(root + \"vuongs/\")\n",
        "trons = os.listdir(root + \"trons/\")\n",
        "tamgiacs = os.listdir(root + \"tamgiacs/\")\n",
        "\n",
        "vuongs_test = os.listdir(root + \"test/vuongs/\")\n",
        "trons_test = os.listdir(root + \"test/trons/\")\n",
        "tamgiacs_test = os.listdir(root + \"test/tamgiacs/\")"
      ],
      "execution_count": null,
      "outputs": []
    },
    {
      "cell_type": "code",
      "metadata": {
        "colab": {
          "base_uri": "https://localhost:8080/"
        },
        "id": "LgSUYKXy1EqH",
        "outputId": "7000456a-1f67-46f2-aefc-7944fbb77614"
      },
      "source": [
        "vuongs_array = []\n",
        "trons_array = []\n",
        "tamgiacs_array = []\n",
        "\n",
        "kernel = np.ones((7, 7), np.uint8)\n",
        "\n",
        "for vuong in vuongs:\n",
        "    img = np.asarray(Image.open(root + \"vuongs/\" + vuong))\n",
        "    gray = .2989 * img[:, :, 0] + .5870 * img[:, :, 1] + .1140 * img[:, :, 2]\n",
        "    gray = 255 - gray\n",
        "    dilation1 = cv.dilate(gray, kernel, iterations=1)\n",
        "    dilation2 = cv.dilate(gray, kernel, iterations=2)\n",
        "    vuongs_array.extend([gray, dilation1, dilation2])\n",
        "\n",
        "for tron in trons:\n",
        "    img = np.asarray(Image.open(root + \"trons/\" + tron))\n",
        "    gray = .2989 * img[:, :, 0] + .5870 * img[:, :, 1] + .1140 * img[:, :, 2]\n",
        "    gray = 255 - gray\n",
        "    dilation1 = cv.dilate(gray, kernel, iterations=1)\n",
        "    dilation2 = cv.dilate(gray, kernel, iterations=2)\n",
        "    trons_array.extend([gray, dilation1, dilation2])\n",
        "\n",
        "for tamgiac in tamgiacs:\n",
        "    img = np.asarray(Image.open(root + \"tamgiacs/\" + tamgiac))\n",
        "    gray = .2989 * img[:, :, 0] + .5870 * img[:, :, 1] + .1140 * img[:, :, 2]\n",
        "    gray = 255 - gray\n",
        "    dilation1 = cv.dilate(gray, kernel, iterations=1)\n",
        "    dilation2 = cv.dilate(gray, kernel, iterations=2)\n",
        "    tamgiacs_array.extend([gray, dilation1, dilation2])\n",
        "\n",
        "vuongs_array = np.array(vuongs_array)\n",
        "trons_array = np.array(trons_array)\n",
        "tamgiacs_array = np.array(tamgiacs_array)\n",
        "\n",
        "xtrain = np.concatenate([vuongs_array, trons_array, tamgiacs_array], axis=0)\n",
        "xtrain = np.expand_dims(xtrain, axis=-1)\n",
        "print(xtrain.shape)\n",
        "\n",
        "vuongs_label = np.full(vuongs_array.shape[:1], 0.)\n",
        "trons_label = np.full(trons_array.shape[:1], 1.)\n",
        "tamgiacs_label = np.full(tamgiacs_array.shape[:1], 2.)\n",
        "\n",
        "ytrain = np.concatenate([vuongs_label, trons_label, tamgiacs_label], axis=0)\n",
        "ytrain.shape"
      ],
      "execution_count": null,
      "outputs": [
        {
          "output_type": "stream",
          "text": [
            "(1080, 60, 60, 1)\n"
          ],
          "name": "stdout"
        },
        {
          "output_type": "execute_result",
          "data": {
            "text/plain": [
              "(1080,)"
            ]
          },
          "metadata": {
            "tags": []
          },
          "execution_count": 3
        }
      ]
    },
    {
      "cell_type": "code",
      "metadata": {
        "colab": {
          "base_uri": "https://localhost:8080/"
        },
        "id": "fBXat17V1F4v",
        "outputId": "7a3be29b-685f-4f0e-80fb-4d7badd753fc"
      },
      "source": [
        "vuongs_array = []\n",
        "trons_array = []\n",
        "tamgiacs_array = []\n",
        "\n",
        "kernel = np.ones((7, 7), np.uint8)\n",
        "\n",
        "for vuong in vuongs_test:\n",
        "    img = np.asarray(Image.open(root + \"test/vuongs/\" + vuong))\n",
        "    gray = .2989 * img[:, :, 0] + .5870 * img[:, :, 1] + .1140 * img[:, :, 2]\n",
        "    gray = 255 - gray\n",
        "    dilation1 = cv.dilate(gray, kernel, iterations=1)\n",
        "    dilation2 = cv.dilate(gray, kernel, iterations=2)\n",
        "    vuongs_array.extend([gray, dilation1, dilation2])\n",
        "\n",
        "for tron in trons_test:\n",
        "    img = np.asarray(Image.open(root + \"test/trons/\" + tron))\n",
        "    gray = .2989 * img[:, :, 0] + .5870 * img[:, :, 1] + .1140 * img[:, :, 2]\n",
        "    gray = 255 - gray\n",
        "    dilation1 = cv.dilate(gray, kernel, iterations=1)\n",
        "    dilation2 = cv.dilate(gray, kernel, iterations=2)\n",
        "    trons_array.extend([gray, dilation1, dilation2])\n",
        "\n",
        "for tamgiac in tamgiacs_test:\n",
        "    img = np.asarray(Image.open(root + \"test/tamgiacs/\" + tamgiac))\n",
        "    gray = .2989 * img[:, :, 0] + .5870 * img[:, :, 1] + .1140 * img[:, :, 2]\n",
        "    gray = 255 - gray\n",
        "    dilation1 = cv.dilate(gray, kernel, iterations=1)\n",
        "    dilation2 = cv.dilate(gray, kernel, iterations=2)\n",
        "    tamgiacs_array.extend([gray, dilation1, dilation2])\n",
        "\n",
        "vuongs_array = np.array(vuongs_array)\n",
        "trons_array = np.array(trons_array)\n",
        "tamgiacs_array = np.array(tamgiacs_array)\n",
        "\n",
        "xtest = np.concatenate([vuongs_array, trons_array, tamgiacs_array], axis=0)\n",
        "xtest = np.expand_dims(xtest, axis=-1)\n",
        "print(xtest.shape)\n",
        "\n",
        "vuongs_label = np.full(vuongs_array.shape[:1], 0.)\n",
        "trons_label = np.full(trons_array.shape[:1], 1.)\n",
        "tamgiacs_label = np.full(tamgiacs_array.shape[:1], 2.)\n",
        "\n",
        "ytest = np.concatenate([vuongs_label, trons_label, tamgiacs_label], axis=0)\n",
        "print(ytest.shape)"
      ],
      "execution_count": null,
      "outputs": [
        {
          "output_type": "stream",
          "text": [
            "(180, 60, 60, 1)\n",
            "(180,)\n"
          ],
          "name": "stdout"
        }
      ]
    },
    {
      "cell_type": "code",
      "metadata": {
        "colab": {
          "base_uri": "https://localhost:8080/"
        },
        "id": "-UatY5R31HjL",
        "outputId": "8b57fa47-e25a-443b-abe4-424b5d92689c"
      },
      "source": [
        "xtrain, xval, ytrain, yval = train_test_split(xtrain, ytrain, test_size=.2, random_state=42)\n",
        "\n",
        "print(xtrain.shape, xval.shape)\n",
        "\n",
        "y_train = to_categorical(ytrain)\n",
        "y_val = to_categorical(yval)\n",
        "y_test = to_categorical(ytest)\n",
        "\n",
        "train_generator = ImageDataGenerator(rotation_range=5, horizontal_flip=True)\n",
        "val_generator = ImageDataGenerator(rotation_range=5, horizontal_flip=True)\n",
        "test_generator = ImageDataGenerator(rotation_range=5, horizontal_flip=True)\n",
        "\n",
        "train_generator.fit(xtrain)\n",
        "val_generator.fit(xval)\n",
        "test_generator.fit(xtest)\n",
        "\n",
        "input_shape = xtrain[0].shape"
      ],
      "execution_count": null,
      "outputs": [
        {
          "output_type": "stream",
          "text": [
            "(864, 60, 60, 1) (216, 60, 60, 1)\n"
          ],
          "name": "stdout"
        }
      ]
    },
    {
      "cell_type": "code",
      "metadata": {
        "colab": {
          "base_uri": "https://localhost:8080/"
        },
        "id": "3tryCnUg1276",
        "outputId": "59af7b1a-b74a-401a-a171-9ab926f3f55f"
      },
      "source": [
        "model = Sequential()\n",
        "\n",
        "model.add(Flatten(input_shape=input_shape))\n",
        "\n",
        "model.add(Dense(1028))\n",
        "model.add(Activation(\"relu\"))\n",
        "model.add(BatchNormalization())\n",
        "model.add(Dropout(0.5))\n",
        "\n",
        "model.add(Dense(128))\n",
        "model.add(Activation(\"relu\"))\n",
        "model.add(BatchNormalization())\n",
        "model.add(Dropout(0.5))\n",
        "\n",
        "model.add(Dense(3))\n",
        "model.add(Activation(\"softmax\"))\n",
        "\n",
        "model.summary()"
      ],
      "execution_count": null,
      "outputs": [
        {
          "output_type": "stream",
          "text": [
            "Model: \"sequential\"\n",
            "_________________________________________________________________\n",
            "Layer (type)                 Output Shape              Param #   \n",
            "=================================================================\n",
            "flatten (Flatten)            (None, 3600)              0         \n",
            "_________________________________________________________________\n",
            "dense (Dense)                (None, 1028)              3701828   \n",
            "_________________________________________________________________\n",
            "activation (Activation)      (None, 1028)              0         \n",
            "_________________________________________________________________\n",
            "batch_normalization (BatchNo (None, 1028)              4112      \n",
            "_________________________________________________________________\n",
            "dropout (Dropout)            (None, 1028)              0         \n",
            "_________________________________________________________________\n",
            "dense_1 (Dense)              (None, 128)               131712    \n",
            "_________________________________________________________________\n",
            "activation_1 (Activation)    (None, 128)               0         \n",
            "_________________________________________________________________\n",
            "batch_normalization_1 (Batch (None, 128)               512       \n",
            "_________________________________________________________________\n",
            "dropout_1 (Dropout)          (None, 128)               0         \n",
            "_________________________________________________________________\n",
            "dense_2 (Dense)              (None, 3)                 387       \n",
            "_________________________________________________________________\n",
            "activation_2 (Activation)    (None, 3)                 0         \n",
            "=================================================================\n",
            "Total params: 3,838,551\n",
            "Trainable params: 3,836,239\n",
            "Non-trainable params: 2,312\n",
            "_________________________________________________________________\n"
          ],
          "name": "stdout"
        }
      ]
    },
    {
      "cell_type": "code",
      "metadata": {
        "colab": {
          "base_uri": "https://localhost:8080/"
        },
        "id": "qJjlIQAx1-YU",
        "outputId": "7b170887-bdd0-44f9-fb6d-95ab3d499f57"
      },
      "source": [
        "batch_size = 64\n",
        "epochs = 18\n",
        "\n",
        "model.compile(optimizer=Adam(), loss=\"categorical_crossentropy\", metrics=[\"accuracy\"])\n",
        "\n",
        "history = model.fit(train_generator.flow(xtrain, y_train, batch_size=batch_size), epochs=epochs,\n",
        "                      validation_data=val_generator.flow(xval, y_val, batch_size=batch_size), verbose=1)\n",
        "\n",
        "\n",
        "print(history.history)\n",
        "print(model.evaluate(xtest, y_test))"
      ],
      "execution_count": null,
      "outputs": [
        {
          "output_type": "stream",
          "text": [
            "Epoch 1/18\n",
            "14/14 [==============================] - 19s 94ms/step - loss: 1.0965 - accuracy: 0.5982 - val_loss: 4.2096 - val_accuracy: 0.6852\n",
            "Epoch 2/18\n",
            "14/14 [==============================] - 1s 42ms/step - loss: 0.6064 - accuracy: 0.7846 - val_loss: 0.3774 - val_accuracy: 0.9306\n",
            "Epoch 3/18\n",
            "14/14 [==============================] - 1s 42ms/step - loss: 0.4561 - accuracy: 0.8095 - val_loss: 0.7390 - val_accuracy: 0.8241\n",
            "Epoch 4/18\n",
            "14/14 [==============================] - 1s 43ms/step - loss: 0.3737 - accuracy: 0.8497 - val_loss: 0.3559 - val_accuracy: 0.8935\n",
            "Epoch 5/18\n",
            "14/14 [==============================] - 1s 43ms/step - loss: 0.3040 - accuracy: 0.8948 - val_loss: 0.2958 - val_accuracy: 0.9120\n",
            "Epoch 6/18\n",
            "14/14 [==============================] - 1s 42ms/step - loss: 0.2638 - accuracy: 0.9036 - val_loss: 0.2789 - val_accuracy: 0.9259\n",
            "Epoch 7/18\n",
            "14/14 [==============================] - 1s 42ms/step - loss: 0.3357 - accuracy: 0.8745 - val_loss: 0.2305 - val_accuracy: 0.9398\n",
            "Epoch 8/18\n",
            "14/14 [==============================] - 1s 41ms/step - loss: 0.2622 - accuracy: 0.8992 - val_loss: 0.1791 - val_accuracy: 0.9352\n",
            "Epoch 9/18\n",
            "14/14 [==============================] - 1s 42ms/step - loss: 0.2499 - accuracy: 0.9121 - val_loss: 0.1999 - val_accuracy: 0.9352\n",
            "Epoch 10/18\n",
            "14/14 [==============================] - 1s 42ms/step - loss: 0.1648 - accuracy: 0.9357 - val_loss: 0.2416 - val_accuracy: 0.9213\n",
            "Epoch 11/18\n",
            "14/14 [==============================] - 1s 42ms/step - loss: 0.1469 - accuracy: 0.9507 - val_loss: 0.1713 - val_accuracy: 0.9444\n",
            "Epoch 12/18\n",
            "14/14 [==============================] - 1s 42ms/step - loss: 0.1924 - accuracy: 0.9376 - val_loss: 0.1778 - val_accuracy: 0.9491\n",
            "Epoch 13/18\n",
            "14/14 [==============================] - 1s 42ms/step - loss: 0.1559 - accuracy: 0.9390 - val_loss: 0.1597 - val_accuracy: 0.9537\n",
            "Epoch 14/18\n",
            "14/14 [==============================] - 1s 42ms/step - loss: 0.1455 - accuracy: 0.9407 - val_loss: 0.1506 - val_accuracy: 0.9491\n",
            "Epoch 15/18\n",
            "14/14 [==============================] - 1s 43ms/step - loss: 0.1645 - accuracy: 0.9435 - val_loss: 0.2024 - val_accuracy: 0.9398\n",
            "Epoch 16/18\n",
            "14/14 [==============================] - 1s 44ms/step - loss: 0.1459 - accuracy: 0.9476 - val_loss: 0.1944 - val_accuracy: 0.9537\n",
            "Epoch 17/18\n",
            "14/14 [==============================] - 1s 42ms/step - loss: 0.1361 - accuracy: 0.9582 - val_loss: 0.1482 - val_accuracy: 0.9398\n",
            "Epoch 18/18\n",
            "14/14 [==============================] - 1s 42ms/step - loss: 0.1545 - accuracy: 0.9556 - val_loss: 0.1475 - val_accuracy: 0.9491\n",
            "{'loss': [0.8980374932289124, 0.5785475969314575, 0.42472729086875916, 0.3771892786026001, 0.31686460971832275, 0.27499130368232727, 0.2970772981643677, 0.22956517338752747, 0.25495466589927673, 0.19090726971626282, 0.16510887444019318, 0.18772512674331665, 0.14552456140518188, 0.15141624212265015, 0.1637122929096222, 0.1393285095691681, 0.1381387710571289, 0.15244609117507935], 'accuracy': [0.6712962985038757, 0.7893518805503845, 0.8310185074806213, 0.8472222089767456, 0.8819444179534912, 0.9085648059844971, 0.8865740895271301, 0.9143518805503845, 0.9097222089767456, 0.9293981194496155, 0.9421296119689941, 0.9386574029922485, 0.9432870149612427, 0.9409722089767456, 0.9456018805503845, 0.9467592835426331, 0.9594907164573669, 0.9525462985038757], 'val_loss': [4.209606647491455, 0.37739595770835876, 0.7390003800392151, 0.3559424579143524, 0.29575198888778687, 0.2788655459880829, 0.23047837615013123, 0.17910996079444885, 0.19992609322071075, 0.24155035614967346, 0.17128856480121613, 0.17777052521705627, 0.1597261130809784, 0.15057450532913208, 0.20244276523590088, 0.19435958564281464, 0.1481684297323227, 0.14750966429710388], 'val_accuracy': [0.6851851940155029, 0.9305555820465088, 0.8240740895271301, 0.8935185074806213, 0.9120370149612427, 0.9259259104728699, 0.9398148059844971, 0.9351851940155029, 0.9351851940155029, 0.9212962985038757, 0.9444444179534912, 0.9490740895271301, 0.9537037014961243, 0.9490740895271301, 0.9398148059844971, 0.9537037014961243, 0.9398148059844971, 0.9490740895271301]}\n",
            "6/6 [==============================] - 0s 4ms/step - loss: 1.3313 - accuracy: 0.7389\n",
            "[1.3312910795211792, 0.7388888597488403]\n"
          ],
          "name": "stdout"
        }
      ]
    },
    {
      "cell_type": "code",
      "metadata": {
        "id": "To20jh8Y2AYe"
      },
      "source": [
        "model.save(\"model_tgm60.h5\")"
      ],
      "execution_count": null,
      "outputs": []
    }
  ]
}