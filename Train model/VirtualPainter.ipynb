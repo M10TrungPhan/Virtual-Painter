{
  "nbformat": 4,
  "nbformat_minor": 0,
  "metadata": {
    "colab": {
      "name": "tgm.ipynb",
      "provenance": [],
      "collapsed_sections": []
    },
    "kernelspec": {
      "name": "python3",
      "display_name": "Python 3"
    },
    "language_info": {
      "name": "python"
    },
    "accelerator": "GPU"
  },
  "cells": [
    {
      "cell_type": "code",
      "metadata": {
        "id": "JHgpHOHkQW4X"
      },
      "source": [
        "import os\n",
        "import cv2 as cv\n",
        "import numpy as np\n",
        "from PIL import Image\n",
        "import matplotlib.pyplot as plt\n",
        "\n",
        "from keras import Sequential\n",
        "from keras.optimizers import Adam\n",
        "from tensorflow.keras.utils import to_categorical\n",
        "from sklearn.model_selection import train_test_split\n",
        "from keras.preprocessing.image import ImageDataGenerator\n",
        "from keras.layers import Dense, Activation, Dropout, Flatten, Conv2D, MaxPooling2D, BatchNormalization"
      ],
      "execution_count": null,
      "outputs": []
    },
    {
      "cell_type": "code",
      "metadata": {
        "id": "0m1_15PfSkKo"
      },
      "source": [
        "root = \"drive/MyDrive/tgm/\"\n",
        "\n",
        "vuongs = os.listdir(root + \"vuongs/\")\n",
        "trons = os.listdir(root + \"trons/\")\n",
        "tamgiacs = os.listdir(root + \"tamgiacs/\")\n",
        "\n",
        "vuongs_test = os.listdir(root + \"test/vuongs/\")\n",
        "trons_test = os.listdir(root + \"test/trons/\")\n",
        "tamgiacs_test = os.listdir(root + \"test/tamgiacs/\")"
      ],
      "execution_count": null,
      "outputs": []
    },
    {
      "cell_type": "code",
      "metadata": {
        "colab": {
          "base_uri": "https://localhost:8080/"
        },
        "id": "rhOzI16gSiZ4",
        "outputId": "486a54c7-d17c-4237-94e9-d5988e55f836"
      },
      "source": [
        "vuongs_array = []\n",
        "trons_array = []\n",
        "tamgiacs_array = []\n",
        "\n",
        "kernel = np.ones((7, 7), np.uint8)\n",
        "\n",
        "for vuong in vuongs:\n",
        "    img = np.asarray(Image.open(root + \"vuongs/\" + vuong))\n",
        "    gray = .2989 * img[:, :, 0] + .5870 * img[:, :, 1] + .1140 * img[:, :, 2]\n",
        "    gray = 255 - gray\n",
        "    dilation1 = cv.dilate(gray, kernel, iterations=1)\n",
        "    dilation2 = cv.dilate(gray, kernel, iterations=2)\n",
        "    vuongs_array.extend([gray, dilation1, dilation2])\n",
        "\n",
        "for tron in trons:\n",
        "    img = np.asarray(Image.open(root + \"trons/\" + tron))\n",
        "    gray = .2989 * img[:, :, 0] + .5870 * img[:, :, 1] + .1140 * img[:, :, 2]\n",
        "    gray = 255 - gray\n",
        "    dilation1 = cv.dilate(gray, kernel, iterations=1)\n",
        "    dilation2 = cv.dilate(gray, kernel, iterations=2)\n",
        "    trons_array.extend([gray, dilation1, dilation2])\n",
        "\n",
        "for tamgiac in tamgiacs:\n",
        "    img = np.asarray(Image.open(root + \"tamgiacs/\" + tamgiac))\n",
        "    gray = .2989 * img[:, :, 0] + .5870 * img[:, :, 1] + .1140 * img[:, :, 2]\n",
        "    gray = 255 - gray\n",
        "    dilation1 = cv.dilate(gray, kernel, iterations=1)\n",
        "    dilation2 = cv.dilate(gray, kernel, iterations=2)\n",
        "    tamgiacs_array.extend([gray, dilation1, dilation2])\n",
        "\n",
        "vuongs_array = np.array(vuongs_array)\n",
        "trons_array = np.array(trons_array)\n",
        "tamgiacs_array = np.array(tamgiacs_array)\n",
        "\n",
        "xtrain = np.concatenate([vuongs_array, trons_array, tamgiacs_array], axis=0)\n",
        "xtrain = np.expand_dims(xtrain, axis=-1)\n",
        "print(xtrain.shape)\n",
        "\n",
        "vuongs_label = np.full(vuongs_array.shape[:1], 0.)\n",
        "trons_label = np.full(trons_array.shape[:1], 1.)\n",
        "tamgiacs_label = np.full(tamgiacs_array.shape[:1], 2.)\n",
        "\n",
        "ytrain = np.concatenate([vuongs_label, trons_label, tamgiacs_label], axis=0)\n",
        "ytrain.shape"
      ],
      "execution_count": null,
      "outputs": [
        {
          "output_type": "stream",
          "text": [
            "(1080, 300, 300, 1)\n"
          ],
          "name": "stdout"
        },
        {
          "output_type": "execute_result",
          "data": {
            "text/plain": [
              "(1080,)"
            ]
          },
          "metadata": {
            "tags": []
          },
          "execution_count": 3
        }
      ]
    },
    {
      "cell_type": "code",
      "metadata": {
        "colab": {
          "base_uri": "https://localhost:8080/"
        },
        "id": "HALAI_AlTPB8",
        "outputId": "7b82a7f4-a252-4daa-a442-5e3550349307"
      },
      "source": [
        "vuongs_array = []\n",
        "trons_array = []\n",
        "tamgiacs_array = []\n",
        "\n",
        "kernel = np.ones((7, 7), np.uint8)\n",
        "\n",
        "for vuong in vuongs_test:\n",
        "    img = np.asarray(Image.open(root + \"test/vuongs/\" + vuong))\n",
        "    gray = .2989 * img[:, :, 0] + .5870 * img[:, :, 1] + .1140 * img[:, :, 2]\n",
        "    gray = 255 - gray\n",
        "    dilation1 = cv.dilate(gray, kernel, iterations=1)\n",
        "    dilation2 = cv.dilate(gray, kernel, iterations=2)\n",
        "    vuongs_array.extend([gray, dilation1, dilation2])\n",
        "\n",
        "for tron in trons_test:\n",
        "    img = np.asarray(Image.open(root + \"test/trons/\" + tron))\n",
        "    gray = .2989 * img[:, :, 0] + .5870 * img[:, :, 1] + .1140 * img[:, :, 2]\n",
        "    gray = 255 - gray\n",
        "    dilation1 = cv.dilate(gray, kernel, iterations=1)\n",
        "    dilation2 = cv.dilate(gray, kernel, iterations=2)\n",
        "    trons_array.extend([gray, dilation1, dilation2])\n",
        "\n",
        "for tamgiac in tamgiacs_test:\n",
        "    img = np.asarray(Image.open(root + \"test/tamgiacs/\" + tamgiac))\n",
        "    gray = .2989 * img[:, :, 0] + .5870 * img[:, :, 1] + .1140 * img[:, :, 2]\n",
        "    gray = 255 - gray\n",
        "    dilation1 = cv.dilate(gray, kernel, iterations=1)\n",
        "    dilation2 = cv.dilate(gray, kernel, iterations=2)\n",
        "    tamgiacs_array.extend([gray, dilation1, dilation2])\n",
        "\n",
        "vuongs_array = np.array(vuongs_array)\n",
        "trons_array = np.array(trons_array)\n",
        "tamgiacs_array = np.array(tamgiacs_array)\n",
        "\n",
        "xtest = np.concatenate([vuongs_array, trons_array, tamgiacs_array], axis=0)\n",
        "xtest = np.expand_dims(xtest, axis=-1)\n",
        "print(xtest.shape)\n",
        "\n",
        "vuongs_label = np.full(vuongs_array.shape[:1], 0.)\n",
        "trons_label = np.full(trons_array.shape[:1], 1.)\n",
        "tamgiacs_label = np.full(tamgiacs_array.shape[:1], 2.)\n",
        "\n",
        "ytest = np.concatenate([vuongs_label, trons_label, tamgiacs_label], axis=0)\n",
        "print(ytest.shape)"
      ],
      "execution_count": null,
      "outputs": [
        {
          "output_type": "stream",
          "text": [
            "(180, 300, 300, 1)\n",
            "(180,)\n"
          ],
          "name": "stdout"
        }
      ]
    },
    {
      "cell_type": "code",
      "metadata": {
        "colab": {
          "base_uri": "https://localhost:8080/"
        },
        "id": "kyp2Sig1h2NN",
        "outputId": "13ad215b-bf91-412b-bc79-1b70b11a8103"
      },
      "source": [
        "xtrain, xval, ytrain, yval = train_test_split(xtrain, ytrain, test_size=.2, random_state=42)\n",
        "\n",
        "print(xtrain.shape, xval.shape)\n",
        "\n",
        "y_train = to_categorical(ytrain)\n",
        "y_val = to_categorical(yval)\n",
        "y_test = to_categorical(ytest)\n",
        "\n",
        "train_generator = ImageDataGenerator(rotation_range=5, horizontal_flip=True)\n",
        "val_generator = ImageDataGenerator(rotation_range=5, horizontal_flip=True)\n",
        "test_generator = ImageDataGenerator(rotation_range=5, horizontal_flip=True)\n",
        "\n",
        "train_generator.fit(xtrain)\n",
        "val_generator.fit(xval)\n",
        "test_generator.fit(xtest)\n",
        "\n",
        "input_shape = xtrain[0].shape"
      ],
      "execution_count": null,
      "outputs": [
        {
          "output_type": "stream",
          "text": [
            "(864, 300, 300, 1) (216, 300, 300, 1)\n"
          ],
          "name": "stdout"
        }
      ]
    },
    {
      "cell_type": "code",
      "metadata": {
        "colab": {
          "base_uri": "https://localhost:8080/"
        },
        "id": "Z2gZMBUSihAO",
        "outputId": "8f2e8081-a2a9-4455-eb87-afffc55ea269"
      },
      "source": [
        "model = Sequential()\n",
        "model.add(Conv2D(16, (5, 5), input_shape=input_shape))\n",
        "model.add(Activation(\"relu\"))\n",
        "model.add(Dropout(0.3))\n",
        "\n",
        "model.add(MaxPooling2D(pool_size=(2, 2)))\n",
        "\n",
        "model.add(Conv2D(16, (5, 5)))\n",
        "model.add(Activation(\"relu\"))\n",
        "model.add(BatchNormalization())\n",
        "model.add(Dropout(0.3))\n",
        "\n",
        "model.add(MaxPooling2D(pool_size=(2, 2)))\n",
        "\n",
        "model.add(Conv2D(16, (5, 5)))\n",
        "model.add(Activation(\"relu\"))\n",
        "model.add(BatchNormalization())\n",
        "model.add(Dropout(0.3))\n",
        "\n",
        "model.add(MaxPooling2D(pool_size=(2, 2)))\n",
        "\n",
        "model.add(Flatten())\n",
        "\n",
        "model.add(Dense(1028))\n",
        "model.add(Activation(\"relu\"))\n",
        "model.add(BatchNormalization())\n",
        "model.add(Dropout(0.5))\n",
        "\n",
        "model.add(Dense(512))\n",
        "model.add(Activation(\"relu\"))\n",
        "model.add(BatchNormalization())\n",
        "model.add(Dropout(0.5))\n",
        "\n",
        "model.add(Dense(128))\n",
        "model.add(Activation(\"relu\"))\n",
        "model.add(BatchNormalization())\n",
        "model.add(Dropout(0.5))\n",
        "\n",
        "model.add(Dense(3))\n",
        "model.add(Activation(\"softmax\"))\n",
        "\n",
        "model.summary()"
      ],
      "execution_count": null,
      "outputs": [
        {
          "output_type": "stream",
          "text": [
            "Model: \"sequential\"\n",
            "_________________________________________________________________\n",
            "Layer (type)                 Output Shape              Param #   \n",
            "=================================================================\n",
            "conv2d (Conv2D)              (None, 296, 296, 16)      416       \n",
            "_________________________________________________________________\n",
            "activation (Activation)      (None, 296, 296, 16)      0         \n",
            "_________________________________________________________________\n",
            "dropout (Dropout)            (None, 296, 296, 16)      0         \n",
            "_________________________________________________________________\n",
            "max_pooling2d (MaxPooling2D) (None, 148, 148, 16)      0         \n",
            "_________________________________________________________________\n",
            "conv2d_1 (Conv2D)            (None, 144, 144, 16)      6416      \n",
            "_________________________________________________________________\n",
            "activation_1 (Activation)    (None, 144, 144, 16)      0         \n",
            "_________________________________________________________________\n",
            "batch_normalization (BatchNo (None, 144, 144, 16)      64        \n",
            "_________________________________________________________________\n",
            "dropout_1 (Dropout)          (None, 144, 144, 16)      0         \n",
            "_________________________________________________________________\n",
            "max_pooling2d_1 (MaxPooling2 (None, 72, 72, 16)        0         \n",
            "_________________________________________________________________\n",
            "conv2d_2 (Conv2D)            (None, 68, 68, 16)        6416      \n",
            "_________________________________________________________________\n",
            "activation_2 (Activation)    (None, 68, 68, 16)        0         \n",
            "_________________________________________________________________\n",
            "batch_normalization_1 (Batch (None, 68, 68, 16)        64        \n",
            "_________________________________________________________________\n",
            "dropout_2 (Dropout)          (None, 68, 68, 16)        0         \n",
            "_________________________________________________________________\n",
            "max_pooling2d_2 (MaxPooling2 (None, 34, 34, 16)        0         \n",
            "_________________________________________________________________\n",
            "flatten (Flatten)            (None, 18496)             0         \n",
            "_________________________________________________________________\n",
            "dense (Dense)                (None, 1028)              19014916  \n",
            "_________________________________________________________________\n",
            "activation_3 (Activation)    (None, 1028)              0         \n",
            "_________________________________________________________________\n",
            "batch_normalization_2 (Batch (None, 1028)              4112      \n",
            "_________________________________________________________________\n",
            "dropout_3 (Dropout)          (None, 1028)              0         \n",
            "_________________________________________________________________\n",
            "dense_1 (Dense)              (None, 512)               526848    \n",
            "_________________________________________________________________\n",
            "activation_4 (Activation)    (None, 512)               0         \n",
            "_________________________________________________________________\n",
            "batch_normalization_3 (Batch (None, 512)               2048      \n",
            "_________________________________________________________________\n",
            "dropout_4 (Dropout)          (None, 512)               0         \n",
            "_________________________________________________________________\n",
            "dense_2 (Dense)              (None, 128)               65664     \n",
            "_________________________________________________________________\n",
            "activation_5 (Activation)    (None, 128)               0         \n",
            "_________________________________________________________________\n",
            "batch_normalization_4 (Batch (None, 128)               512       \n",
            "_________________________________________________________________\n",
            "dropout_5 (Dropout)          (None, 128)               0         \n",
            "_________________________________________________________________\n",
            "dense_3 (Dense)              (None, 3)                 387       \n",
            "_________________________________________________________________\n",
            "activation_6 (Activation)    (None, 3)                 0         \n",
            "=================================================================\n",
            "Total params: 19,627,863\n",
            "Trainable params: 19,624,463\n",
            "Non-trainable params: 3,400\n",
            "_________________________________________________________________\n"
          ],
          "name": "stdout"
        }
      ]
    },
    {
      "cell_type": "code",
      "metadata": {
        "colab": {
          "base_uri": "https://localhost:8080/"
        },
        "id": "OWeg4Kk7jULS",
        "outputId": "192896cf-c883-4416-ee22-d935f8cdc93b"
      },
      "source": [
        "batch_size = 64\n",
        "epochs = 10\n",
        "\n",
        "model.compile(optimizer=Adam(), loss=\"categorical_crossentropy\", metrics=[\"accuracy\"])\n",
        "\n",
        "history = model.fit(train_generator.flow(xtrain, y_train, batch_size=batch_size), epochs=epochs,\n",
        "                      validation_data=val_generator.flow(xval, y_val, batch_size=batch_size), verbose=1)\n",
        "\n",
        "\n",
        "print(history.history)\n",
        "print(model.evaluate(xtest, y_test))"
      ],
      "execution_count": null,
      "outputs": [
        {
          "output_type": "stream",
          "text": [
            "Epoch 1/10\n",
            "14/14 [==============================] - 34s 733ms/step - loss: 0.9710 - accuracy: 0.6477 - val_loss: 5.1518 - val_accuracy: 0.8102\n",
            "Epoch 2/10\n",
            "14/14 [==============================] - 8s 560ms/step - loss: 0.2694 - accuracy: 0.8894 - val_loss: 2.3916 - val_accuracy: 0.7963\n",
            "Epoch 3/10\n",
            "14/14 [==============================] - 8s 559ms/step - loss: 0.2209 - accuracy: 0.9250 - val_loss: 0.7970 - val_accuracy: 0.8519\n",
            "Epoch 4/10\n",
            "14/14 [==============================] - 8s 558ms/step - loss: 0.1156 - accuracy: 0.9570 - val_loss: 0.2067 - val_accuracy: 0.9259\n",
            "Epoch 5/10\n",
            "14/14 [==============================] - 8s 553ms/step - loss: 0.1022 - accuracy: 0.9606 - val_loss: 0.1754 - val_accuracy: 0.9352\n",
            "Epoch 6/10\n",
            "14/14 [==============================] - 8s 557ms/step - loss: 0.0720 - accuracy: 0.9709 - val_loss: 0.0327 - val_accuracy: 0.9861\n",
            "Epoch 7/10\n",
            "14/14 [==============================] - 8s 560ms/step - loss: 0.0648 - accuracy: 0.9748 - val_loss: 0.0174 - val_accuracy: 0.9907\n",
            "Epoch 8/10\n",
            "14/14 [==============================] - 8s 571ms/step - loss: 0.0338 - accuracy: 0.9866 - val_loss: 0.0280 - val_accuracy: 0.9907\n",
            "Epoch 9/10\n",
            "14/14 [==============================] - 8s 568ms/step - loss: 0.0408 - accuracy: 0.9866 - val_loss: 0.0950 - val_accuracy: 0.9583\n",
            "Epoch 10/10\n",
            "14/14 [==============================] - 8s 560ms/step - loss: 0.0292 - accuracy: 0.9893 - val_loss: 0.1156 - val_accuracy: 0.9444\n",
            "{'loss': [0.6885850429534912, 0.282869815826416, 0.21588166058063507, 0.10969565808773041, 0.08386421948671341, 0.06683176755905151, 0.05961225554347038, 0.031903862953186035, 0.03376702964305878, 0.021144870668649673], 'accuracy': [0.7384259104728699, 0.8784722089767456, 0.9270833134651184, 0.9618055820465088, 0.9675925970077515, 0.9780092835426331, 0.9780092835426331, 0.9884259104728699, 0.9872685074806213, 0.9942129850387573], 'val_loss': [5.151845455169678, 2.3916471004486084, 0.797037661075592, 0.20673322677612305, 0.17535559833049774, 0.03266116976737976, 0.0174024049192667, 0.027997398748993874, 0.09503082931041718, 0.1155928522348404], 'val_accuracy': [0.8101851940155029, 0.7962962985038757, 0.8518518805503845, 0.9259259104728699, 0.9351851940155029, 0.9861111044883728, 0.9907407164573669, 0.9907407164573669, 0.9583333134651184, 0.9444444179534912]}\n",
            "6/6 [==============================] - 1s 105ms/step - loss: 1.4599 - accuracy: 0.7611\n",
            "[1.4598549604415894, 0.7611111402511597]\n"
          ],
          "name": "stdout"
        }
      ]
    },
    {
      "cell_type": "code",
      "metadata": {
        "id": "eJg3q2wiste5"
      },
      "source": [
        "model.save(\"model_tgm.h5\")"
      ],
      "execution_count": null,
      "outputs": []
    }
  ]
}