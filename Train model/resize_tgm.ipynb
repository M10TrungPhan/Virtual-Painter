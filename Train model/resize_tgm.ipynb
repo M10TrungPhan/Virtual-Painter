{
  "nbformat": 4,
  "nbformat_minor": 0,
  "metadata": {
    "colab": {
      "name": "resize_tgm.ipynb",
      "provenance": []
    },
    "kernelspec": {
      "name": "python3",
      "display_name": "Python 3"
    },
    "language_info": {
      "name": "python"
    }
  },
  "cells": [
    {
      "cell_type": "code",
      "metadata": {
        "id": "itf006OswR6v"
      },
      "source": [
        "import os\n",
        "import cv2\n",
        " \n",
        "root = \"drive/MyDrive/tgm/\"\n",
        "\n",
        "vuongs = os.listdir(root + \"vuongs/\")\n",
        "trons = os.listdir(root + \"trons/\")\n",
        "tamgiacs = os.listdir(root + \"tamgiacs/\")\n",
        "\n",
        "vuongs_test = os.listdir(root + \"test/vuongs/\")\n",
        "trons_test = os.listdir(root + \"test/trons/\")\n",
        "tamgiacs_test = os.listdir(root + \"test/tamgiacs/\")"
      ],
      "execution_count": null,
      "outputs": []
    },
    {
      "cell_type": "code",
      "metadata": {
        "id": "fxLsah9QyMHu"
      },
      "source": [
        "def resize(dir, filename):\n",
        "    img = cv2.imread(dir + filename, cv2.IMREAD_UNCHANGED)\n",
        "\n",
        "    scale_percent = 20\n",
        "    width = int(img.shape[1] * scale_percent / 100)\n",
        "    height = int(img.shape[0] * scale_percent / 100)\n",
        "    dim = (width, height)\n",
        "    \n",
        "    resized = cv2.resize(img, dim, interpolation = cv2.INTER_AREA)\n",
        "\n",
        "    cv2.imwrite(dir + \"resized/\" + filename, resized)"
      ],
      "execution_count": null,
      "outputs": []
    },
    {
      "cell_type": "code",
      "metadata": {
        "id": "S2XERysaxj0h"
      },
      "source": [
        "for vuong in vuongs:\n",
        "    resize(root, \"vuongs/\" + vuong)\n",
        "\n",
        "for tron in trons:\n",
        "    resize(root, \"trons/\" + tron)\n",
        "\n",
        "for tamgiac in tamgiacs:\n",
        "    resize(root, \"tamgiacs/\" + tamgiac)\n",
        "\n",
        "for vuong in vuongs_test:\n",
        "    resize(root, \"test/vuongs/\" + vuong)\n",
        "\n",
        "for tron in trons_test:\n",
        "    resize(root, \"test/trons/\" + tron)\n",
        "\n",
        "for tamgiac in tamgiacs_test:\n",
        "    resize(root, \"test/tamgiacs/\" + tamgiac)"
      ],
      "execution_count": null,
      "outputs": []
    }
  ]
}